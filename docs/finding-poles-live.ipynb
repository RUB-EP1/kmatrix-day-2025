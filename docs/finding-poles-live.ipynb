{
 "cells": [
  {
   "cell_type": "markdown",
   "metadata": {},
   "source": [
    "# Finding pole positions"
   ]
  },
  {
   "cell_type": "markdown",
   "metadata": {},
   "source": [
    ":::{.callout-tip}\n",
    "## Task\n",
    "\n",
    "We have been gifted a $K$-matrix parameterization for two resonances within one channel, because it is International $K$-Matrix Day. The parameter values are:\n",
    "\n",
    "- Masses of final state particles: $m_a=0.1\\,\\mathrm{GeV}$ and $m_b=0.2\\,\\mathrm{GeV}$\n",
    "- Bare masses of the resonances: $m_1=1.8\\,\\mathrm{GeV}$ and $m_2=1.1\\,\\mathrm{GeV}$\n",
    "- Couplings: $g=0.5\\,\\mathrm{GeV}$ and $g=0.7\\,\\mathrm{GeV}$\n",
    ":::\n",
    "\n",
    ":::{.callout-caution}\n",
    "## Goal\n",
    "\n",
    "Find **pole positions** and the **residues** of the two resonances with the given parameter values.\n",
    ":::"
   ]
  },
  {
   "cell_type": "code",
   "execution_count": null,
   "metadata": {},
   "outputs": [],
   "source": [
    "%config InlineBackend.figure_format = 'svg'"
   ]
  },
  {
   "cell_type": "code",
   "execution_count": null,
   "metadata": {
    "jupyter": {
     "source_hidden": true
    }
   },
   "outputs": [],
   "source": [
    "from typing import Any\n",
    "\n",
    "import matplotlib.pyplot as plt\n",
    "import numpy as np\n",
    "import sympy as sp\n",
    "from ampform.io import aslatex\n",
    "from ampform.kinematics.phasespace import Kallen\n",
    "from ampform.sympy import unevaluated\n",
    "from iminuit import Minuit\n",
    "from IPython.display import Math\n",
    "from matplotlib import colors"
   ]
  },
  {
   "cell_type": "markdown",
   "metadata": {},
   "source": [
    "## Phase space factors"
   ]
  },
  {
   "cell_type": "markdown",
   "metadata": {},
   "source": [
    "We define the phase space factor $\\rho^\\mathrm{CM}(s)$ using the Chew–Mandelstam function $\\Sigma(s)$ for $S$&nbsp;waves ($L=0$). For the discontinuity between the sheets, we use the 'standard' phase space factor $\\rho(s)$."
   ]
  },
  {
   "cell_type": "code",
   "execution_count": null,
   "metadata": {
    "jupyter": {
     "source_hidden": true
    }
   },
   "outputs": [],
   "source": [
    "@unevaluated(real=False)\n",
    "class PhaseSpaceFactor(sp.Expr):\n",
    "    s: Any\n",
    "    m1: Any\n",
    "    m2: Any\n",
    "    _latex_repr_ = R\"\\rho\\left({s}\\right)\"\n",
    "\n",
    "    def evaluate(self) -> sp.Expr:\n",
    "        s, m1, m2 = self.args\n",
    "        return sp.sqrt(s - (m1 + m2) ** 2) * sp.sqrt(s - (m1 - m2) ** 2) / s\n",
    "\n",
    "\n",
    "@unevaluated(real=False)\n",
    "class PhaseSpaceFactorCM(sp.Expr):\n",
    "    s: Any\n",
    "    m1: Any\n",
    "    m2: Any\n",
    "    _latex_repr_ = R\"\\rho^\\mathrm{{CM}}\\left({s}\\right)\"\n",
    "\n",
    "    def evaluate(self) -> sp.Expr:\n",
    "        s, m1, m2 = self.args\n",
    "        return -16 * sp.pi * sp.I * ChewMandelstam(s, m1, m2)\n",
    "\n",
    "\n",
    "@unevaluated(real=False)\n",
    "class ChewMandelstam(sp.Expr):\n",
    "    s: Any\n",
    "    m1: Any\n",
    "    m2: Any\n",
    "    _latex_repr_ = R\"\\Sigma\\left({s}\\right)\"\n",
    "\n",
    "    def evaluate(self) -> sp.Expr:\n",
    "        s, m1, m2 = self.args\n",
    "        q = BreakupMomentum(s, m1, m2)\n",
    "        return (\n",
    "            1\n",
    "            / (16 * sp.pi**2)\n",
    "            * (\n",
    "                (2 * q / sp.sqrt(s))\n",
    "                * sp.log((m1**2 + m2**2 - s + 2 * sp.sqrt(s) * q) / (2 * m1 * m2))\n",
    "                - (m1**2 - m2**2) * (1 / s - 1 / (m1 + m2) ** 2) * sp.log(m1 / m2)\n",
    "            )\n",
    "        )\n",
    "\n",
    "\n",
    "@unevaluated(real=False)\n",
    "class BreakupMomentum(sp.Expr):\n",
    "    s: Any\n",
    "    m1: Any\n",
    "    m2: Any\n",
    "    _latex_repr_ = R\"q\\left({s}\\right)\"\n",
    "\n",
    "    def evaluate(self) -> sp.Expr:\n",
    "        s, m1, m2 = self.args\n",
    "        return sp.sqrt(Kallen(s, m1**2, m2**2)) / (2 * sp.sqrt(s))\n",
    "\n",
    "\n",
    "args = sp.symbols(\"s m_a m_b\")\n",
    "exprs = [\n",
    "    PhaseSpaceFactor(*args),\n",
    "    PhaseSpaceFactorCM(*args),\n",
    "    ChewMandelstam(*args),\n",
    "    BreakupMomentum(*args),\n",
    "]\n",
    "Math(aslatex({expr: expr.doit(deep=False) for expr in exprs}))"
   ]
  },
  {
   "cell_type": "markdown",
   "metadata": {},
   "source": [
    "Compare [PDG 2024, Figure 50.6](https://pdg.lbl.gov/2024/reviews/rpp2024-rev-resonances.pdf#page=15):"
   ]
  },
  {
   "cell_type": "code",
   "execution_count": null,
   "metadata": {
    "jupyter": {
     "source_hidden": true
    }
   },
   "outputs": [],
   "source": [
    "rho_func = sp.lambdify(args, PhaseSpaceFactor(*args).doit())\n",
    "rho_cm_func = sp.lambdify(args, PhaseSpaceFactorCM(*args).doit())\n",
    "x = np.linspace(-0.1, 1.3, num=500)\n",
    "epsilon = 1e-4j\n",
    "threshold = dict(m_a=0.13, m_b=0.5)\n",
    "z_rho = 1j * rho_func(x + epsilon, **threshold)\n",
    "z_rho_cm = 1j * rho_cm_func(x + epsilon, **threshold)\n",
    "\n",
    "fig, axes = plt.subplots(figsize=(9, 4), ncols=2, sharey=True)\n",
    "ax1, ax2 = axes\n",
    "ax1.plot(x, z_rho.real, c=\"black\", label=\"Real part\", ls=\"--\")\n",
    "ax1.plot(x, z_rho.imag, c=\"red\", label=\"Imag part\")\n",
    "ax2.plot(x, z_rho_cm.real, c=\"black\", label=\"Real part\", ls=\"--\")\n",
    "ax2.plot(x, z_rho_cm.imag, c=\"red\", label=\"Imag part\")\n",
    "ax1.set_title(R\"$i\\rho(s)$\")\n",
    "ax2.set_title(R\"$i\\rho^{CM}(s)$\")\n",
    "s_thr = sum(threshold.values()) ** 2\n",
    "for ax in axes:\n",
    "    ax.axhline(0, alpha=0.5, c=\"black\", lw=0.3)\n",
    "    ax.axvline(s_thr, c=\"black\", lw=0.5)\n",
    "    ax.legend(loc=\"lower right\")\n",
    "    ax.set_xlabel(R\"$s+i\\epsilon$ [GeV$^2$]\")\n",
    "    ax.set_ylim(-1, +1)\n",
    "fig.tight_layout()\n",
    "plt.show(fig)"
   ]
  },
  {
   "cell_type": "markdown",
   "metadata": {},
   "source": [
    "## Formulate $T$-matrix"
   ]
  }
 ],
 "metadata": {
  "kernelspec": {
   "display_name": "Python 3 (ipykernel)",
   "language": "python",
   "name": "python3"
  },
  "language_info": {
   "codemirror_mode": {
    "name": "ipython",
    "version": 3
   },
   "file_extension": ".py",
   "mimetype": "text/x-python",
   "name": "python",
   "nbconvert_exporter": "python",
   "pygments_lexer": "ipython3",
   "version": "3.13.8"
  }
 },
 "nbformat": 4,
 "nbformat_minor": 4
}
