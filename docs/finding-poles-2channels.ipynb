{
 "cells": [
  {
   "cell_type": "markdown",
   "metadata": {},
   "source": [
    "---\n",
    "author:\n",
    "  - Lena Pöpping\n",
    "  - Remco de Boer\n",
    "date: 2025-04-14\n",
    "format:\n",
    "  html:\n",
    "    code-links:\n",
    "      - href: lite/lab/index.html?path=finding-poles-2channels.ipynb\n",
    "        icon: play\n",
    "        text: Run code\n",
    "---"
   ]
  },
  {
   "cell_type": "markdown",
   "metadata": {},
   "source": [
    "# Poles in a 2x2 $K$&nbsp;matrix"
   ]
  },
  {
   "cell_type": "code",
   "execution_count": null,
   "metadata": {},
   "outputs": [],
   "source": [
    "# | echo: false\n",
    "# | output: false\n",
    "%config InlineBackend.figure_format = 'svg'\n",
    "%pip install ampform~=0.15.0"
   ]
  },
  {
   "cell_type": "code",
   "execution_count": null,
   "metadata": {
    "jupyter": {
     "source_hidden": true
    }
   },
   "outputs": [],
   "source": [
    "# | code-fold: true\n",
    "# | code-summary: Import Python libraries\n",
    "from collections.abc import Callable\n",
    "from typing import Any\n",
    "\n",
    "import matplotlib.pyplot as plt\n",
    "import numpy as np\n",
    "import sympy as sp\n",
    "from ampform.io import aslatex\n",
    "from ampform.kinematics.phasespace import Kallen\n",
    "from ampform.sympy import unevaluated\n",
    "from iminuit import Minuit\n",
    "from IPython.display import Math\n",
    "from matplotlib import colors"
   ]
  },
  {
   "cell_type": "markdown",
   "metadata": {},
   "source": [
    ":::{.callout-tip}\n",
    "See the [Finding poles](./finding-poles.ipynb) notebook for more explanation on the phase space factors and the procedure for finding a pole and computing a residue in the unphysical sheet.\n",
    ":::"
   ]
  },
  {
   "cell_type": "code",
   "execution_count": null,
   "metadata": {
    "jupyter": {
     "source_hidden": true
    }
   },
   "outputs": [],
   "source": [
    "# | code-fold: true\n",
    "# | code-summary: Definition of phase space factors\n",
    "@unevaluated(real=False)\n",
    "class PhaseSpaceFactor(sp.Expr):\n",
    "    s: Any\n",
    "    m1: Any\n",
    "    m2: Any\n",
    "    _latex_repr_ = R\"\\rho_{{{m1},{m2}}}\\left({s}\\right)\"\n",
    "\n",
    "    def evaluate(self) -> sp.Expr:\n",
    "        s, m1, m2 = self.args\n",
    "        return sp.sqrt(s - (m1 + m2) ** 2) * sp.sqrt(s - (m1 - m2) ** 2) / s\n",
    "\n",
    "\n",
    "@unevaluated(real=False)\n",
    "class PhaseSpaceFactorCM(sp.Expr):\n",
    "    s: Any\n",
    "    m1: Any\n",
    "    m2: Any\n",
    "    _latex_repr_ = R\"\\rho_{{{m1},{m2}}}^\\mathrm{{CM}}\\left({s}\\right)\"\n",
    "\n",
    "    def evaluate(self) -> sp.Expr:\n",
    "        s, m1, m2 = self.args\n",
    "        return -16 * sp.pi * sp.I * ChewMandelstam(s, m1, m2)\n",
    "\n",
    "\n",
    "@unevaluated(real=False)\n",
    "class ChewMandelstam(sp.Expr):\n",
    "    s: Any\n",
    "    m1: Any\n",
    "    m2: Any\n",
    "    _latex_repr_ = R\"\\Sigma\\left({s}\\right)\"\n",
    "\n",
    "    def evaluate(self) -> sp.Expr:\n",
    "        s, m1, m2 = self.args\n",
    "        q = BreakupMomentum(s, m1, m2)\n",
    "        return (\n",
    "            1\n",
    "            / (16 * sp.pi**2)\n",
    "            * (\n",
    "                (2 * q / sp.sqrt(s))\n",
    "                * sp.log((m1**2 + m2**2 - s + 2 * sp.sqrt(s) * q) / (2 * m1 * m2))\n",
    "                - (m1**2 - m2**2) * (1 / s - 1 / (m1 + m2) ** 2) * sp.log(m1 / m2)\n",
    "            )\n",
    "        )\n",
    "\n",
    "\n",
    "@unevaluated(real=False)\n",
    "class BreakupMomentum(sp.Expr):\n",
    "    s: Any\n",
    "    m1: Any\n",
    "    m2: Any\n",
    "    _latex_repr_ = R\"q\\left({s}\\right)\"\n",
    "\n",
    "    def evaluate(self) -> sp.Expr:\n",
    "        s, m1, m2 = self.args\n",
    "        return sp.sqrt(Kallen(s, m1**2, m2**2)) / (2 * sp.sqrt(s))\n",
    "\n",
    "\n",
    "class DiagonalMatrix(sp.DiagonalMatrix):\n",
    "    def _latex(self, printer, *args):  # noqa: ARG002\n",
    "        return printer._print(self.args[0])\n",
    "\n",
    "\n",
    "args = sp.symbols(\"s m_a m_b\")\n",
    "exprs = [\n",
    "    PhaseSpaceFactor(*args),\n",
    "    PhaseSpaceFactorCM(*args),\n",
    "    ChewMandelstam(*args),\n",
    "    BreakupMomentum(*args),\n",
    "]\n",
    "Math(aslatex({expr: expr.doit(deep=False) for expr in exprs}))"
   ]
  },
  {
   "cell_type": "markdown",
   "metadata": {},
   "source": [
    "## Formulate $T$-matrix"
   ]
  },
  {
   "cell_type": "code",
   "execution_count": null,
   "metadata": {},
   "outputs": [],
   "source": [
    "n = 2\n",
    "K = sp.MatrixSymbol(\"K\", n, n)\n",
    "CM = DiagonalMatrix(sp.MatrixSymbol(R\"\\rho^\\mathrm{CM}\", n, n))\n",
    "rho = DiagonalMatrix(sp.MatrixSymbol(\"rho\", n, n))\n",
    "I = sp.Identity(n)"
   ]
  },
  {
   "cell_type": "code",
   "execution_count": null,
   "metadata": {},
   "outputs": [],
   "source": [
    "T1 = (I - sp.I * K * CM).inv() * K\n",
    "T1"
   ]
  },
  {
   "cell_type": "code",
   "execution_count": null,
   "metadata": {},
   "outputs": [],
   "source": [
    "s, g1, g2, m1 = sp.symbols(\"s g1 g2 m1\")\n",
    "ma, mb, mc, md = sp.symbols(\"m_a m_b m_c m_d\")"
   ]
  },
  {
   "cell_type": "code",
   "execution_count": null,
   "metadata": {},
   "outputs": [],
   "source": [
    "substitutions = {\n",
    "    K[0, 0]: g1**2 / (m1**2 - s),\n",
    "    K[1, 1]: g2**2 / (m1**2 - s),\n",
    "    K[0, 1]: g2 * g1 / (m1**2 - s),\n",
    "    K[1, 0]: g2 * g1 / (m1**2 - s),\n",
    "    CM[0, 0]: PhaseSpaceFactorCM(s, ma, mb),\n",
    "    CM[1, 1]: PhaseSpaceFactorCM(s, mc, md),\n",
    "}\n",
    "Math(aslatex(substitutions))"
   ]
  },
  {
   "cell_type": "markdown",
   "metadata": {},
   "source": [
    "Indeed, the expression for sheet I looks like a Flatté function (multichannel Breit–Wigner)!"
   ]
  },
  {
   "cell_type": "code",
   "execution_count": null,
   "metadata": {},
   "outputs": [],
   "source": [
    "T1.as_explicit().subs(substitutions).simplify(doit=False)[0, 0]"
   ]
  },
  {
   "cell_type": "code",
   "execution_count": null,
   "metadata": {},
   "outputs": [],
   "source": [
    "T1_expr = T1.as_explicit().subs(substitutions)\n",
    "T1_expr_00 = T1_expr[0, 0]\n",
    "T1_expr_11 = T1_expr[1, 1]"
   ]
  },
  {
   "cell_type": "markdown",
   "metadata": {},
   "source": [
    "The second and third sheet are again calculated through the discontinuity of the $T$ matrix across the branch cut:\n",
    "\n",
    "$$\n",
    "\\begin{align}\n",
    "\\operatorname{Disc}_{\\mathrm{I,II}} T^{-1}\n",
    "&= 2 i\\left[\\begin{array}{rr}\\rho_1 & 0  \\\\ 0 & 0 \\end{array}\\right] \\\\\n",
    "\\operatorname{Disc}_{\\mathrm{I,III}} T^{-1}\n",
    "&= 2 i\\left[\\begin{array}{rr}\\rho_1 & 0  \\\\ 0 & \\rho_2 \\end{array}\\right]\n",
    "\\end{align}\n",
    "$$\n",
    "\n",
    "Depending on the centre-of-mass energy, different Riemann sheets connect smoothly to the physical one. In our case the resonance mass will be above the threshold for the first **and** the second channel. Therefore the resonance is expected to be located on the third sheet."
   ]
  },
  {
   "cell_type": "code",
   "execution_count": null,
   "metadata": {},
   "outputs": [],
   "source": [
    "Ti = (T1.inv() - 2 * sp.I * rho).inv()\n",
    "Ti"
   ]
  },
  {
   "cell_type": "code",
   "execution_count": null,
   "metadata": {},
   "outputs": [],
   "source": [
    "rho_subs_II = {\n",
    "    **substitutions,\n",
    "    rho[0, 0]: PhaseSpaceFactor(s, ma, mb),\n",
    "    rho[1, 1]: 0,\n",
    "}\n",
    "rho_subs_III = {\n",
    "    **substitutions,\n",
    "    rho[0, 0]: PhaseSpaceFactor(s, ma, mb),\n",
    "    rho[1, 1]: PhaseSpaceFactor(s, mc, md),\n",
    "}"
   ]
  },
  {
   "cell_type": "code",
   "execution_count": null,
   "metadata": {},
   "outputs": [],
   "source": [
    "T2_expr = Ti.as_explicit().subs(rho_subs_II)\n",
    "T3_expr = Ti.as_explicit().subs(rho_subs_III)"
   ]
  },
  {
   "cell_type": "code",
   "execution_count": null,
   "metadata": {},
   "outputs": [],
   "source": [
    "parameters = {\n",
    "    m1: 0.8,\n",
    "    g1: 0.4,\n",
    "    g2: 0.3,\n",
    "    ma: 0.1,\n",
    "    mb: 0.15,\n",
    "    mc: 0.25,\n",
    "    md: 0.4,\n",
    "}"
   ]
  },
  {
   "cell_type": "code",
   "execution_count": null,
   "metadata": {
    "jupyter": {
     "source_hidden": true
    }
   },
   "outputs": [],
   "source": [
    "# | code-fold: true\n",
    "# | code-summary: Create numerical functions for $T$ matrices\n",
    "def lambdify_matrix_expression(matrix_expr: sp.Matrix) -> np.ndarray:\n",
    "    return np.array([\n",
    "        [sp.lambdify(s, matrix_expr[i, j].doit().subs(parameters)) for i in range(n)]\n",
    "        for j in range(n)\n",
    "    ])\n",
    "\n",
    "\n",
    "T1_func = lambdify_matrix_expression(T1_expr)\n",
    "T2_func = lambdify_matrix_expression(T2_expr)\n",
    "T3_func = lambdify_matrix_expression(T3_expr)"
   ]
  },
  {
   "cell_type": "code",
   "execution_count": null,
   "metadata": {},
   "outputs": [],
   "source": [
    "thr1 = (parameters[ma] + parameters[mb]) ** 2\n",
    "thr2 = (parameters[mc] + parameters[md]) ** 2"
   ]
  },
  {
   "cell_type": "code",
   "execution_count": null,
   "metadata": {
    "jupyter": {
     "source_hidden": true
    }
   },
   "outputs": [],
   "source": [
    "# | code-fold: true\n",
    "Y_max = 1\n",
    "X, Y = np.meshgrid(\n",
    "    np.linspace(0, 1.5, num=100),\n",
    "    np.linspace(1e-8, Y_max, num=100),\n",
    ")\n",
    "S = X + 1j * Y\n",
    "\n",
    "style = dict(cmap=plt.cm.coolwarm, rasterized=True, vmin=-1, vmax=1)\n",
    "text_kwargs = dict(c=\"black\", fontsize=16)\n",
    "\n",
    "fig, axes = plt.subplots(figsize=(8, 6), ncols=2, nrows=2, sharex=True, sharey=True)\n",
    "ax1, ax2, ax3, ax4 = axes.flatten()\n",
    "\n",
    "ax1.pcolormesh(X, Y, T1_func[0, 0](S).imag, **style)\n",
    "ax1.pcolormesh(X, -Y, T3_func[0, 0](S.conj()).imag, **style)\n",
    "ax1.text(0.32, 0.88, R\"$T_\\mathrm{I}^{11}$\", transform=ax1.transAxes, **text_kwargs)  # noqa: RUF027\n",
    "ax1.text(0.32, 0.06, R\"$T_\\mathrm{III}^{11}$\", transform=ax1.transAxes, **text_kwargs)\n",
    "\n",
    "ax2.pcolormesh(X, +Y, T1_func[0, 1](S).imag, **style)\n",
    "ax2.pcolormesh(X, -Y, T3_func[0, 1](S.conj()).imag, **style)\n",
    "ax2.text(0.32, 0.88, R\"$T_\\mathrm{I}^{12}$\", transform=ax2.transAxes, **text_kwargs)  # noqa: RUF027\n",
    "ax2.text(0.32, 0.06, R\"$T_\\mathrm{III}^{12}$\", transform=ax2.transAxes, **text_kwargs)\n",
    "\n",
    "ax3.pcolormesh(X, +Y, T1_func[1, 0](S).imag, **style)\n",
    "ax3.pcolormesh(X, -Y, T2_func[1, 0](S.conj()).imag, **style)\n",
    "ax3.text(0.32, 0.88, R\"$T_\\mathrm{I}^{21}$\", transform=ax3.transAxes, **text_kwargs)  # noqa: RUF027\n",
    "ax3.text(0.32, 0.06, R\"$T_\\mathrm{II}^{21}$\", transform=ax3.transAxes, **text_kwargs)\n",
    "\n",
    "\n",
    "ax4.pcolormesh(X, +Y, T1_func[1, 1](S).imag, **style)\n",
    "ax4.pcolormesh(X, -Y, T2_func[1, 1](S.conj()).imag, **style)\n",
    "ax4.text(0.32, 0.88, R\"$T_\\mathrm{I}^{22}$\", transform=ax4.transAxes, **text_kwargs)  # noqa: RUF027\n",
    "ax4.text(0.32, 0.06, R\"$T_\\mathrm{II}^{22}$\", transform=ax4.transAxes, **text_kwargs)\n",
    "\n",
    "for ax in axes.flatten():\n",
    "    ax.vlines(thr1, 0, Y_max, color=\"C0\", ls=\"--\")\n",
    "    ax.vlines(thr2, 0, Y_max, color=\"C1\", ls=\"--\")\n",
    "for ax in axes[1]:\n",
    "    ax.set_xlabel(\"Re(s)\")\n",
    "for ax in axes[:, 0]:\n",
    "    ax.set_ylabel(\"Im(s)\")\n",
    "fig.tight_layout()\n",
    "plt.show()"
   ]
  },
  {
   "cell_type": "markdown",
   "metadata": {},
   "source": [
    "## Find pole positions"
   ]
  },
  {
   "cell_type": "code",
   "execution_count": null,
   "metadata": {
    "jupyter": {
     "source_hidden": true
    }
   },
   "outputs": [],
   "source": [
    "def get_denominator_functions(matrix_expr: sp.Matrix, parameters: dict) -> np.ndarray:\n",
    "    return np.array([\n",
    "        [lambdify_denominator(matrix_expr[i, j], parameters) for i in range(n)]\n",
    "        for j in range(n)\n",
    "    ])\n",
    "\n",
    "\n",
    "def lambdify_denominator(expr: sp.Expr, parameters: dict) -> Callable:\n",
    "    _, denominator = sp.fraction(expr)\n",
    "    return sp.lambdify(s, denominator.doit().subs(parameters))\n",
    "\n",
    "\n",
    "T2_denom_func = get_denominator_functions(T2_expr, parameters)\n",
    "T3_denom_func = get_denominator_functions(T3_expr, parameters)"
   ]
  },
  {
   "cell_type": "code",
   "execution_count": null,
   "metadata": {
    "jupyter": {
     "source_hidden": true
    }
   },
   "outputs": [],
   "source": [
    "# | code-fold: true\n",
    "Z = np.abs(T3_denom_func[0, 0](S.conj()))\n",
    "plt.title(R\"Absolute value of denominator of $T_\\mathrm{III}^{1, 1}$\")\n",
    "plt.pcolormesh(X, -Y, Z, rasterized=True, norm=colors.LogNorm(vmin=0.1, vmax=4))\n",
    "plt.colorbar()\n",
    "plt.xlabel(\"Re(s)\")\n",
    "plt.ylabel(\"Im(s)\")\n",
    "plt.show()"
   ]
  },
  {
   "cell_type": "code",
   "execution_count": null,
   "metadata": {
    "jupyter": {
     "source_hidden": true
    }
   },
   "outputs": [],
   "source": [
    "# | code-fold: true\n",
    "def fit_pole(func, s_guess: complex) -> complex:\n",
    "    def cost_function(s_real: float, s_imag: float) -> float:\n",
    "        s = s_real + s_imag * 1j\n",
    "        return np.abs(func(s)) ** 2\n",
    "\n",
    "    minuit2 = Minuit(cost_function, s_guess.real, s_guess.imag)\n",
    "    minuit2.tol = 0.001\n",
    "    fit_result = minuit2.migrad()\n",
    "    return complex(*fit_result.values)"
   ]
  },
  {
   "cell_type": "code",
   "execution_count": null,
   "metadata": {},
   "outputs": [],
   "source": [
    "poles_positions_II = np.array([\n",
    "    [\n",
    "        fit_pole(T2_denom_func[0, 0], s_guess=0.8 - 0.3j),\n",
    "        fit_pole(T2_denom_func[0, 1], s_guess=0.8 - 0.3j),\n",
    "    ],\n",
    "    [\n",
    "        fit_pole(T2_denom_func[1, 0], s_guess=0.8 - 0.3j),\n",
    "        fit_pole(T2_denom_func[1, 1], s_guess=0.8 - 0.3j),\n",
    "    ],\n",
    "])\n",
    "poles_positions_II.round(3)"
   ]
  },
  {
   "cell_type": "markdown",
   "metadata": {},
   "source": [
    "## Compute residues"
   ]
  },
  {
   "cell_type": "code",
   "execution_count": null,
   "metadata": {},
   "outputs": [],
   "source": [
    "def compute_residue(f, z0, radius=1e-3, n_points=1_000):\n",
    "    phi = np.linspace(-np.pi, np.pi, n_points, endpoint=False)\n",
    "    z = z0 + radius * np.exp(1j * phi)\n",
    "    return radius / n_points * np.sum(f(z) * np.exp(1j * phi))"
   ]
  },
  {
   "cell_type": "code",
   "execution_count": null,
   "metadata": {},
   "outputs": [],
   "source": [
    "residues_II = np.array([\n",
    "    [\n",
    "        compute_residue(T2_func[0, 0], z0=poles_positions_II[0, 0]),\n",
    "        compute_residue(T2_func[0, 1], z0=poles_positions_II[0, 1]),\n",
    "    ],\n",
    "    [\n",
    "        compute_residue(T2_func[1, 0], z0=poles_positions_II[1, 0]),\n",
    "        compute_residue(T2_func[1, 1], z0=poles_positions_II[1, 1]),\n",
    "    ],\n",
    "])\n",
    "residues_II.round(3)"
   ]
  },
  {
   "cell_type": "markdown",
   "metadata": {},
   "source": [
    "Interstingly, the residue matrix\n",
    "\n",
    "$$\n",
    "R_{ij} = \\frac{1}{2\\pi i} = \\oint T^\\mathrm{II}_{ij}(s) \\, \\mathrm{d}s\n",
    "$$\n",
    "\n",
    "has determinant $0$ and is always of rank $1$, that is, it has only one non-zero eigenvalue."
   ]
  },
  {
   "cell_type": "code",
   "execution_count": null,
   "metadata": {},
   "outputs": [],
   "source": [
    "np.testing.assert_almost_equal(np.linalg.det(residues_II), 0)"
   ]
  },
  {
   "cell_type": "code",
   "execution_count": null,
   "metadata": {},
   "outputs": [],
   "source": [
    "eigenvalues = np.linalg.eigvals(residues_II)\n",
    "eigenvalues.round(5)"
   ]
  },
  {
   "cell_type": "markdown",
   "metadata": {},
   "source": [
    "We also have the relation\n",
    "\n",
    "$$\n",
    "g^T g = \\lambda_1 \\,,\n",
    "$$\n",
    "\n",
    "where $\\lambda_1$ is the first eigenvalue on the eigenvalue matrix."
   ]
  }
 ],
 "metadata": {
  "kernelspec": {
   "display_name": "Python 3 (ipykernel)",
   "language": "python",
   "name": "python3"
  },
  "language_info": {
   "codemirror_mode": {
    "name": "ipython",
    "version": 3
   },
   "file_extension": ".py",
   "mimetype": "text/x-python",
   "name": "python",
   "nbconvert_exporter": "python",
   "pygments_lexer": "ipython3",
   "version": "3.13.8"
  }
 },
 "nbformat": 4,
 "nbformat_minor": 4
}
